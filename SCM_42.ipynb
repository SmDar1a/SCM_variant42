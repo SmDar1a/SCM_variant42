{
 "cells": [
  {
   "cell_type": "markdown",
   "id": "b5887016",
   "metadata": {},
   "source": [
    "# Вариант задачи №42 - Момент Инерции\n"
   ]
  },
  {
   "cell_type": "markdown",
   "id": "dd5df74c",
   "metadata": {},
   "source": [
    "## Смирнова Дарья 3821Б1ПР1"
   ]
  },
  {
   "cell_type": "markdown",
   "id": "3f1fc60b",
   "metadata": {},
   "source": [
    "Требуется определить внешний $R$ и внутренний $r$ радиусы цилиндрической трубы, если известны ее длина $l$, толщина $h = R - r$, плотность $ρ$ и момент инерции относительно ее продольной оси $I$.\n",
    "\n",
    "Момент инерции для цилиндрической трубы вычисляется по формуле \n",
    "\n",
    "$$ \n",
    "I = \\frac {πρl}{2}{(R^4 - r^4)} \n",
    "$$\n",
    "\n",
    "и задача сводится к решению кубического уравнения.\n",
    "\n",
    "1. Выведите это кубическое уравнение\n",
    "\n",
    "\n",
    "2. Решите его численно (см. scipy.optimize.brentq или другой метод) для значений: $l = 2$, $h = 0.02$, $ρ = 1200$, $I = 1.2$. Сколько вещественных корней имеет уравнение?\n",
    "\n",
    "\n",
    "3. Построить график зависимости $r$ от $I$ при значениях $l$, $h$, $ρ$, указанных выше."
   ]
  },
  {
   "cell_type": "markdown",
   "id": "c8594c96",
   "metadata": {},
   "source": [
    "### 1. Выведем кубическое уравнение"
   ]
  },
  {
   "cell_type": "markdown",
   "id": "fdca3308",
   "metadata": {},
   "source": [
    "Разложим $(R^4 - r^4):$\n",
    "\n",
    "$$\n",
    "(R^4 - r^4) = \n",
    "$$\n",
    "\n",
    "$$\n",
    "(R - r)(R + r)(R^2 + r^2) = \n",
    "$$\n",
    "\n",
    "$$\n",
    "(R - r)((R-r) + 2r)((R-r)^2 + 2r(R - r) + 2r^2) \n",
    "$$\n",
    "\n",
    "\n",
    "Заменим $(R-r)$ на $h :$ \n",
    "$$\n",
    "h(h + 2r)(h^2 + 2rh + 2r^2)\n",
    "$$\n",
    "\n",
    "После раскрытия скобок и сокращения получим:\n",
    "$$\n",
    "4hr^3 + 6h^2r^2 + 4h^3r + h^4\n",
    "$$"
   ]
  },
  {
   "cell_type": "markdown",
   "id": "2663705c",
   "metadata": {},
   "source": [
    "Подставим в наше уравнение:\n",
    "\n",
    "$$\n",
    "I = \\frac {πρl}{2}{(4hr^3 + 6h^2r^2 + 4h^3r + h^4)}\n",
    "$$"
   ]
  },
  {
   "cell_type": "markdown",
   "id": "c637c670",
   "metadata": {},
   "source": [
    "### 2. Решим его численно"
   ]
  },
  {
   "cell_type": "markdown",
   "id": "bf0e0edc",
   "metadata": {},
   "source": [
    "**Библиотеки:**"
   ]
  },
  {
   "cell_type": "code",
   "execution_count": 8,
   "id": "3dd004ea",
   "metadata": {},
   "outputs": [],
   "source": [
    "import matplotlib.pyplot as plt\n",
    "import numpy as np\n",
    "from scipy.optimize import brentq"
   ]
  },
  {
   "cell_type": "markdown",
   "id": "ddd7b360",
   "metadata": {},
   "source": [
    "**Найдем корни уравнения:**"
   ]
  },
  {
   "cell_type": "code",
   "execution_count": 33,
   "id": "ae5efaf6",
   "metadata": {},
   "outputs": [
    {
     "name": "stdout",
     "output_type": "stream",
     "text": [
      "r =  0.14824978647450776\n"
     ]
    }
   ],
   "source": [
    "l = 2\n",
    "h = 0.02\n",
    "ρ = 1200\n",
    "I = 1.2\n",
    "pi = np.pi\n",
    "\n",
    "r = brentq(lambda r:((pi*ρ*l)/2)*(4*h*r**3 + 6*h**2*r**2 + 4*h**3*r + h**4) - I, -1, 1)\n",
    "print('r = ', r)"
   ]
  },
  {
   "cell_type": "markdown",
   "id": "fef1b049",
   "metadata": {},
   "source": [
    "Уравнение имеет один вещественный корень\n",
    "\n",
    "Внутренний радиус трубы = 0.14824978647450776"
   ]
  },
  {
   "cell_type": "markdown",
   "id": "51c0539a",
   "metadata": {},
   "source": [
    "Найдем внешний радиус трубы:"
   ]
  },
  {
   "cell_type": "code",
   "execution_count": 34,
   "id": "da513fdd",
   "metadata": {},
   "outputs": [
    {
     "name": "stdout",
     "output_type": "stream",
     "text": [
      "R =  0.16824978647450775\n"
     ]
    }
   ],
   "source": [
    "R = r + h\n",
    "print('R = ', R)"
   ]
  },
  {
   "cell_type": "markdown",
   "id": "27281469",
   "metadata": {},
   "source": [
    "Внешний радиус получился = 0.16824978647450775"
   ]
  },
  {
   "cell_type": "markdown",
   "id": "4467f4df",
   "metadata": {},
   "source": [
    "### 3. Построим график зависимости  𝑟  от  𝐼  "
   ]
  },
  {
   "cell_type": "code",
   "execution_count": 47,
   "id": "1f773276",
   "metadata": {},
   "outputs": [
    {
     "data": {
      "image/png": "[encoded data removed]",
      "text/plain": [
       "<Figure size 432x288 with 1 Axes>"
      ]
     },
     "metadata": {
      "needs_background": "light"
     },
     "output_type": "display_data"
    },
    {
     "data": {
      "text/plain": [
       "array([-0.06745372+0.06745372j, -0.06745372-0.06745372j,\n",
       "       -0.06745372+0.j        ])"
      ]
     },
     "execution_count": 47,
     "metadata": {},
     "output_type": "execute_result"
    }
   ],
   "source": [
    "c = [((pi*ρ*l)/2)*4*h*r**3, ((pi*ρ*l)/2)*6*h**2*r**2, ((pi*ρ*l)/2)*4*h**3*r, ((pi*ρ*l)/2)*h**4]\n",
    "g = np.poly1d(c)\n",
    "x = np.linspace(-1, 1, 1000)\n",
    "y = g(x)\n",
    "\n",
    "plt.grid()\n",
    "plt.title('График зависимости r от I')\n",
    "plt.xlabel('I')\n",
    "plt.ylabel('r')\n",
    "plt.plot(x, y)\n",
    "plt.show()\n",
    "\n",
    "out = np.roots(c)\n",
    "out"
   ]
  },
  {
   "cell_type": "markdown",
   "id": "7a7819ac",
   "metadata": {},
   "source": [
    "### Вывод:"
   ]
  },
  {
   "cell_type": "markdown",
   "id": "d45c4e58",
   "metadata": {},
   "source": [
    "При помощи вычислений я определила внешний $R$ и внутренний $r$ радиусы цилиндрической трубы.\n",
    "\n",
    "Сначала я вывела кубическое уравнение  по $r$, подставила в него $h = R - r$. Получилось: \n",
    "$$\n",
    "I = \\frac {πρl}{2}{(4hr^3 + 6h^2r^2 + 4h^3r + h^4)}\n",
    "$$\n",
    "\n",
    "После этого решила это уравнение с помощью метода scipy.optimize.brentq. У уравнения получился один вещественный корень:\n",
    "$$r = 0.14824978647450776$$ \n",
    "После нашла внешний радиус: \n",
    "$$R = 0.16824978647450775$$\n",
    "\n",
    "Далее постороила график зависимости $r$ от $I$. Вывела получившиеся значения.\n",
    "\n"
   ]
  }
 ],
 "metadata": {
  "kernelspec": {
   "display_name": "Python 3 (ipykernel)",
   "language": "python",
   "name": "python3"
  },
  "language_info": {
   "codemirror_mode": {
    "name": "ipython",
    "version": 3
   },
   "file_extension": ".py",
   "mimetype": "text/x-python",
   "name": "python",
   "nbconvert_exporter": "python",
   "pygments_lexer": "ipython3",
   "version": "3.9.7"
  }
 },
 "nbformat": 4,
 "nbformat_minor": 5
}
